{
 "cells": [
  {
   "cell_type": "markdown",
   "id": "137718be",
   "metadata": {},
   "source": [
    "# Установка библиотеки bayoo-docx"
   ]
  },
  {
   "cell_type": "code",
   "execution_count": 8,
   "id": "e1042d90",
   "metadata": {},
   "outputs": [],
   "source": [
    "# установка bayoo-docx\n",
    "#!pip install bayoo-docx"
   ]
  },
  {
   "cell_type": "code",
   "execution_count": 19,
   "id": "f8a7a956",
   "metadata": {},
   "outputs": [],
   "source": [
    "# для поиска строки в файле используем thefuzz (нечеткий поиск строк)\n",
    "#!pip install thefuzz[speedup]"
   ]
  },
  {
   "cell_type": "markdown",
   "id": "ea7d82f2",
   "metadata": {},
   "source": [
    "## Необходимые import"
   ]
  },
  {
   "cell_type": "code",
   "execution_count": 1,
   "id": "c437383b",
   "metadata": {
    "scrolled": true
   },
   "outputs": [
    {
     "name": "stderr",
     "output_type": "stream",
     "text": [
      "C:\\Anaconda3\\envs\\py33\\lib\\site-packages\\thefuzz\\fuzz.py:11: UserWarning: Using slow pure-python SequenceMatcher. Install python-Levenshtein to remove this warning\n",
      "  warnings.warn('Using slow pure-python SequenceMatcher. Install python-Levenshtein to remove this warning')\n"
     ]
    }
   ],
   "source": [
    "# Необходимые импорты\n",
    "from docx import Document\n",
    "from docx.enum.text import WD_ALIGN_PARAGRAPH\n",
    "from thefuzz import fuzz\n",
    "import ctypes\n",
    "\n",
    "# Модуль ctypes нужен для определения полного имени пользователи."
   ]
  },
  {
   "cell_type": "markdown",
   "id": "9a0980fb",
   "metadata": {},
   "source": [
    "# Создаем тестовый документ и наполняем"
   ]
  },
  {
   "cell_type": "code",
   "execution_count": 7,
   "id": "70f99d8f",
   "metadata": {},
   "outputs": [],
   "source": [
    "# создание пустого документа\n",
    "doc = Document()\n",
    "\n",
    "#добавляем абзацы\n",
    "doc.add_paragraph('Первый абзац, первая страница')\n",
    "doc.add_paragraph('Второй абзац, первая страница')\n",
    "doc.add_paragraph('Третий абзац, первая страница')\n",
    "\n",
    "# добавляем разрыв страницы\n",
    "doc.add_page_break()\n",
    "\n",
    "#добавляем абзацы на второй странице\n",
    "doc.add_paragraph('Первый абзац, вторая страница')\n",
    "doc.add_paragraph('Второй абзац, вторая страница')\n",
    "doc.add_paragraph('Третий абзац, вторая страница')\n",
    "\n",
    "# данные таблицы без названий колонок\n",
    "items = (\n",
    "    (1, 'первая строка', 'первая строка'),\n",
    "    (2, 'вторая строка', 'вторая строка'),\n",
    "    (3, 'третья строка', 'третья строка'),\n",
    ")\n",
    "\n",
    "# добавляем таблицу с одной строкой \n",
    "# для заполнения названий колонок\n",
    "table = doc.add_table(1, len(items[0]))\n",
    "\n",
    "# определяем стиль таблицы\n",
    "table.style = 'Light Shading Accent 1'\n",
    "\n",
    "# Получаем строку с колонками из добавленной таблицы\n",
    "head_cells = table.rows[0].cells\n",
    "\n",
    "# добавляем названия колонок\n",
    "for i, item in enumerate(['первая колонка', 'вторая колонка', 'третья колонка']):\n",
    "    p = head_cells[i].paragraphs[0]\n",
    "    # название колонки\n",
    "    p.add_run(item).bold = True\n",
    "    # выравниваем посередине\n",
    "    p.alignment = WD_ALIGN_PARAGRAPH.CENTER\n",
    "    \n",
    "# добавляем данные к существующей таблице\n",
    "for row in items:\n",
    "    # добавляем строку с ячейками к объекту таблицы\n",
    "    cells = table.add_row().cells\n",
    "    for i, item in enumerate(row):\n",
    "        # вставляем данные в ячейки\n",
    "        cells[i].text = str(item)\n",
    "        \n",
    "# сохраняем тестовый файл с которым будем работать       \n",
    "doc.save('test.docx')"
   ]
  },
  {
   "cell_type": "code",
   "execution_count": 9,
   "id": "235478c3",
   "metadata": {},
   "outputs": [
    {
     "name": "stdout",
     "output_type": "stream",
     "text": [
      "<docx.text.paragraph.Paragraph object at 0x0000026F87D13580>\n",
      "<docx.text.paragraph.Paragraph object at 0x0000026F87D13550>\n",
      "<docx.text.paragraph.Paragraph object at 0x0000026F87D13BB0>\n",
      "<docx.text.paragraph.Paragraph object at 0x0000026F87D13790>\n",
      "<docx.text.paragraph.Paragraph object at 0x0000026F87D138B0>\n",
      "<docx.text.paragraph.Paragraph object at 0x0000026F87D13400>\n",
      "<docx.text.paragraph.Paragraph object at 0x0000026F87D13AF0>\n",
      "<docx.table.Table object at 0x0000026F87D13B50>\n",
      "<docx.section.Section object at 0x0000026F87D13D30>\n"
     ]
    }
   ],
   "source": [
    "# содержание списка elements\n",
    "for element in doc.elements:\n",
    "    print(element)"
   ]
  },
  {
   "cell_type": "markdown",
   "id": "f57b06dc",
   "metadata": {
    "pycharm": {
     "name": "#%% md\n"
    }
   },
   "source": [
    "# Сборк абзацев из файла в список"
   ]
  },
  {
   "cell_type": "code",
   "execution_count": 10,
   "id": "b3e51970",
   "metadata": {},
   "outputs": [],
   "source": [
    "\"\"\"Функция для сбора все параграфов в файле, это необходимо т.к. файл может содержать такие структуры как paragraph, table... \n",
    "В структуре table (таблица) можно итерировать по ячейкам (cell). Cell так же содержат paragraph(абзацы), а это как раз таки то, \n",
    "что нам нужно (комментарии можно добавлять как к прогонам (run) так и к абзацам (paragraph)).\"\"\"\n",
    "\n",
    "\n",
    "def filter_element(document):\n",
    "    \"\"\"\n",
    "    This function take all paragraphs in file.\n",
    "\n",
    "    :param document: object of document\n",
    "    :return: list of paragraphs in file.docx - document\n",
    "    \"\"\"\n",
    "    res = []\n",
    "    for element in document.elements:\n",
    "        if 'paragraph' in str(element): \n",
    "            res.append(element)\n",
    "        elif 'table' in str(element):\n",
    "            for row in element.rows:\n",
    "                for cell in row.cells:\n",
    "                    res.append(cell.paragraphs)\n",
    "    return res "
   ]
  },
  {
   "cell_type": "markdown",
   "id": "8469ce2c",
   "metadata": {},
   "source": [
    "# Определение полного имени пользователя"
   ]
  },
  {
   "cell_type": "code",
   "execution_count": 11,
   "id": "11996498",
   "metadata": {},
   "outputs": [],
   "source": [
    "def get_display_name():\n",
    "    \"\"\"\n",
    "    This function return full name of user.\n",
    "    out:\n",
    "        string: full name of user\n",
    "    \"\"\"\n",
    "    get_user_name_ex = ctypes.windll.secur32.GetUserNameExW\n",
    "    name_display = 3\n",
    "    size = ctypes.pointer(ctypes.c_ulong(0))\n",
    "    get_user_name_ex(name_display, None, size)\n",
    "    name_buffer = ctypes.create_unicode_buffer(size.contents.value)\n",
    "    get_user_name_ex(name_display, name_buffer, size)\n",
    "    return name_buffer.value"
   ]
  },
  {
   "cell_type": "markdown",
   "id": "de32b894",
   "metadata": {},
   "source": [
    "# Поиск строки и добавление комментария"
   ]
  },
  {
   "cell_type": "code",
   "execution_count": 15,
   "id": "c5e127ee",
   "metadata": {},
   "outputs": [],
   "source": [
    "def make_comment(text:str, paragraphs:list, user:str):\n",
    "    \"\"\"\n",
    "    This function adds comments in docx files.\n",
    "    :param text: the line we are looking for\n",
    "    :param paragraphs: list of paragraphs to search for a string\n",
    "    :param user: full name of user\n",
    "    \"\"\"\n",
    "    for paragraph in paragraphs:\n",
    "        # итерируем по абзацам и проверяем на тип \n",
    "        if type(paragraph) == list:\n",
    "            # если список значит здесь ячейка таблицы\n",
    "            text_in_table = [p.text for p in paragraph]\n",
    "            text_in_table = ''.join(text_in_table)\n",
    "            # соединяем абзацы и получаем целый текст не потеряв список обьектов Paragraph\n",
    "            if len(text_in_table) >= len(text)-5:\n",
    "                # проверяем, что длина абзаца как минимум меньше на 10 символов\n",
    "                res = fuzz.partial_ratio(text.lower(), text_in_table.lower())\n",
    "                # производим сравнение ячейки и строки которую ищем\n",
    "                if res >= 97:\n",
    "                    # если индекст выше 97 производим добавление комментария к пустому прогону добавленному в конец\n",
    "                    p = paragraph[-1]\n",
    "                    run = p.add_run()\n",
    "                    run.add_comment('Строчка которую искали', author=user) # передали комментарий и имя пользователя\n",
    "        else:\n",
    "            # сюда попадают проверки для абзацев вне таблицы.\n",
    "            if len(paragraph.text) >= len(text):\n",
    "                res = fuzz.partial_ratio(text.lower(), paragraph.text.lower())\n",
    "                if res >= 97:\n",
    "                    paragraph.add_comment('Строчка которую искали', author=user) # комментарий добавляется к абзацу\n",
    " \n",
    "\n",
    "#обьект документа\n",
    "document = Document('test.docx')\n",
    "# строчка которую ищем\n",
    "text = \"Первый абзац, первая страницы\"\n",
    "# список абзацев для поиска\n",
    "paragraphs = filter_element(document)\n",
    "# полное имя пользователя\n",
    "name_of_user = get_display_name()\n",
    "# вызываем функцию добавления комментарий\n",
    "make_comment(text, paragraphs, name_of_user)\n",
    "# сохраняем изменения в файл .docx\n",
    "document.save('test с комментарием.docx')"
   ]
  },
  {
   "cell_type": "markdown",
   "id": "c0c94d03",
   "metadata": {},
   "source": [
    "# Комментарий к строке в таблице"
   ]
  },
  {
   "cell_type": "code",
   "execution_count": 16,
   "id": "d5708377",
   "metadata": {},
   "outputs": [],
   "source": [
    "#обьект документа\n",
    "document = Document('test.docx')\n",
    "# строчка которую ищем\n",
    "text = \"Первая строка\"\n",
    "# список абзацев для поиска\n",
    "paragraphs = filter_element(document)\n",
    "# полное имя пользователя\n",
    "name_of_user = get_display_name()\n",
    "# вызываем функцию добавления комментарий\n",
    "make_comment(text, paragraphs, name_of_user)\n",
    "# сохраняем изменения в файл .docx\n",
    "document.save('test с комментарием.docx')"
   ]
  },
  {
   "cell_type": "markdown",
   "id": "3675ad3d",
   "metadata": {},
   "source": [
    "# Поиск номера страницы"
   ]
  },
  {
   "cell_type": "code",
   "execution_count": 17,
   "id": "6bc05a0e",
   "metadata": {
    "scrolled": false
   },
   "outputs": [
    {
     "name": "stdout",
     "output_type": "stream",
     "text": [
      "2, 2\n"
     ]
    }
   ],
   "source": [
    "def number_page(text:str, paragraphs:list):\n",
    "    \"\"\"\n",
    "    This funcion find number page.\n",
    "\n",
    "    :param text: string what we find\n",
    "    :param paragraphs: list of paragraphs\n",
    "    :return: pages\n",
    "    \"\"\"\n",
    "    # список для сбора номеров страниц где встретилась строка\n",
    "    pages = []\n",
    "    # счетчик для номеров страниц\n",
    "    number_page = 1\n",
    "    for paragraph in paragraphs:\n",
    "        if type(paragraph) == list:\n",
    "            # проверка на наличие разрывов страниц внутри таблиц\n",
    "            text_in_table = [p.text for p in paragraph]\n",
    "            text_in_table = ''.join(text_in_table)\n",
    "            for p in paragraph:\n",
    "                for run in p.runs:\n",
    "                    # проверка на мягкий разрыва страницы\n",
    "                    if 'lastRenderedPageBreak' in run._element.xml:\n",
    "                        number_page += 1\n",
    "                    # проверка на жесткий разрыв страницы\n",
    "                    elif 'w:br' in run._element.xml and 'type=\"page\"' in run._element.xml:\n",
    "                        number_page += 1\n",
    "            # к этому моменту известен актуальный номер страницы\n",
    "            if len(text_in_table) >= len(text)-10:\n",
    "                res = fuzz.partial_ratio(text.lower(), text_in_table.lower())\n",
    "                if res >= 97:\n",
    "                    # если строчка найдена, добавляем в список номер страницы\n",
    "                    pages.append(number_page)\n",
    "        else:\n",
    "            # проверка разрывов в абзацах вне таблиц\n",
    "            for run in paragraph.runs:\n",
    "                if 'lastRenderedPageBreak' in run._element.xml:\n",
    "                    number_page += 1\n",
    "                elif 'w:br' in run._element.xml and 'type=\"page\"' in run._element.xml:\n",
    "                    number_page += 1\n",
    "            if len(paragraph.text) >= len(text):\n",
    "                res = fuzz.partial_ratio(text.lower(), paragraph.text.lower())\n",
    "                if res >= 97:\n",
    "                    pages.append(number_page)\n",
    "    return ', '.join(map(str, pages))\n",
    "\n",
    "\n",
    "# создаем обьект document\n",
    "document = Document('test.docx')\n",
    "# снова собираем в список абзацы документа\n",
    "paragraphs = filter_element(document)\n",
    "# строка номер которой хотим найти\n",
    "text = \"Первая строка\"\n",
    "# вызываем функцию для поиска номера стриницы искомого текста.          \n",
    "print(number_page(text, paragraphs))"
   ]
  },
  {
   "cell_type": "code",
   "execution_count": 18,
   "id": "9c323b4c",
   "metadata": {
    "pycharm": {
     "name": "#%%\n"
    }
   },
   "outputs": [],
   "source": [
    "# Через запятую выводятся страницы в которых была обнаружена строчка."
   ]
  }
 ],
 "metadata": {
  "kernelspec": {
   "display_name": "py33",
   "language": "python",
   "name": "py33"
  },
  "language_info": {
   "codemirror_mode": {
    "name": "ipython",
    "version": 3
   },
   "file_extension": ".py",
   "mimetype": "text/x-python",
   "name": "python",
   "nbconvert_exporter": "python",
   "pygments_lexer": "ipython3",
   "version": "3.9.7"
  },
  "varInspector": {
   "cols": {
    "lenName": 16,
    "lenType": 16,
    "lenVar": 40
   },
   "kernels_config": {
    "python": {
     "delete_cmd_postfix": "",
     "delete_cmd_prefix": "del ",
     "library": "var_list.py",
     "varRefreshCmd": "print(var_dic_list())"
    },
    "r": {
     "delete_cmd_postfix": ") ",
     "delete_cmd_prefix": "rm(",
     "library": "var_list.r",
     "varRefreshCmd": "cat(var_dic_list()) "
    }
   },
   "oldHeight": 122.85,
   "position": {
    "height": "40px",
    "left": "1123.19px",
    "right": "20px",
    "top": "124px",
    "width": "250px"
   },
   "types_to_exclude": [
    "module",
    "function",
    "builtin_function_or_method",
    "instance",
    "_Feature"
   ],
   "varInspector_section_display": "none",
   "window_display": false
  }
 },
 "nbformat": 4,
 "nbformat_minor": 5
}
